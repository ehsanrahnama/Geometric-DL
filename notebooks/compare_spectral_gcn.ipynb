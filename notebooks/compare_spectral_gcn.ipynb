{
 "cells": [
  {
   "cell_type": "code",
   "execution_count": 1,
   "id": "a457eab2-4a8c-410c-915b-5903c7fb6fd5",
   "metadata": {},
   "outputs": [
    {
     "name": "stderr",
     "output_type": "stream",
     "text": [
      "/home/ehsan/miniconda3/envs/myenv/lib/python3.8/site-packages/tqdm/auto.py:22: TqdmWarning: IProgress not found. Please update jupyter and ipywidgets. See https://ipywidgets.readthedocs.io/en/stable/user_install.html\n",
      "  from .autonotebook import tqdm as notebook_tqdm\n"
     ]
    }
   ],
   "source": [
    "import numpy as np\n",
    "import networkx as nx\n",
    "import matplotlib.pyplot as plt\n",
    "from sklearn.cluster import KMeans\n",
    "import torch\n",
    "import torch.nn as nn\n",
    "import torch.nn.functional as F"
   ]
  },
  {
   "cell_type": "markdown",
   "id": "358afdfa-e2aa-4c74-87f6-7e58952900a1",
   "metadata": {},
   "source": [
    "### 1. Create Graph "
   ]
  },
  {
   "cell_type": "markdown",
   "id": "6128863e-ff0a-4f95-8e59-c10de22bc009",
   "metadata": {},
   "source": [
    "The famous Zachary Karate Club graph is loaded. This is a classic little social network graph where the nodes represent members of a karate club and the edges represent friendships between them. The club eventually split into two groups.\n",
    "1. {'club': 'Mr. Hi'}\n",
    "2. {'club': 'Officer'}"
   ]
  },
  {
   "cell_type": "code",
   "execution_count": 2,
   "id": "d6141994-aa9e-45e6-92d4-ac39fb53e523",
   "metadata": {},
   "outputs": [],
   "source": [
    "G = nx.karate_club_graph()\n",
    "A = nx.to_numpy_array(G)\n",
    "labels_true = np.array([G.nodes[i]['club'] == 'Mr. Hi' for i in G.nodes()], dtype=int)"
   ]
  },
  {
   "cell_type": "markdown",
   "id": "b22c1c87-6daa-420a-88e3-7244b72d1f11",
   "metadata": {},
   "source": [
    "###  2. Spectral Clustering"
   ]
  },
  {
   "cell_type": "markdown",
   "id": "8e4b5907-6da9-4056-8a57-482b8e711bd9",
   "metadata": {},
   "source": [
    "The normalized Laplacian is usually used because it gives better results. This is done with the formula $L_{sym}=D^{−1/2}LD^{−1/2}$ which helps in the stability of the algorithm."
   ]
  },
  {
   "cell_type": "code",
   "execution_count": 11,
   "id": "0b2864fa-1a6c-4982-bed4-f7f603d5b6bb",
   "metadata": {},
   "outputs": [],
   "source": [
    "def laplacian_matrix(A, normalized=True):\n",
    "    D = np.diag(A.sum(axis=1))\n",
    "    L = D - A\n",
    "    if normalized:\n",
    "        D_inv_sqrt = np.diag(1.0 / np.sqrt(np.diag(D)))\n",
    "        L = D_inv_sqrt @ L @ D_inv_sqrt\n",
    "    return L\n",
    "\n",
    "def spectral_clustering(A, k, normalized=True):\n",
    "    L = laplacian_matrix(A, normalized)\n",
    "    eigvals, eigvecs = np.linalg.eigh(L)\n",
    "    X = eigvecs[:, :k]\n",
    "    km = KMeans(n_clusters=k, n_init=10)\n",
    "    labels = km.fit_predict(X)\n",
    "    return labels"
   ]
  },
  {
   "cell_type": "code",
   "execution_count": 12,
   "id": "85ba1a11-7dec-49ab-84aa-dab4b29c9a73",
   "metadata": {},
   "outputs": [],
   "source": [
    "labels_spectral = spectral_clustering(A, k=2)"
   ]
  },
  {
   "cell_type": "code",
   "execution_count": 13,
   "id": "10d41a45-8e10-4c30-b55a-398355b90614",
   "metadata": {},
   "outputs": [
    {
     "data": {
      "text/plain": [
       "array([1, 1, 1, 1, 1, 1, 1, 1, 0, 0, 1, 1, 1, 1, 0, 0, 1, 1, 0, 1, 0, 1,\n",
       "       0, 0, 0, 0, 0, 0, 0, 0, 0, 0, 0, 0], dtype=int32)"
      ]
     },
     "execution_count": 13,
     "metadata": {},
     "output_type": "execute_result"
    }
   ],
   "source": [
    "labels_spectral"
   ]
  },
  {
   "cell_type": "markdown",
   "id": "8f2a765a-8ae1-4185-8581-e94f19b3c16e",
   "metadata": {},
   "source": [
    "### 3. Simple GCN by PyTorch"
   ]
  },
  {
   "cell_type": "code",
   "execution_count": 24,
   "id": "68c33beb-815f-4172-aac6-a2857a6d7a13",
   "metadata": {},
   "outputs": [],
   "source": [
    "\n",
    "class GCNLayer(nn.Module):\n",
    "    def __init__(self, in_feats, out_feats):\n",
    "        super(GCNLayer, self).__init__()\n",
    "        self.linear = nn.Linear(in_feats, out_feats)\n",
    "\n",
    "    def forward(self, X, A_hat):\n",
    "        out = torch.mm(A_hat, X)\n",
    "        out = self.linear(out)\n",
    "        return out\n",
    "\n",
    "class GCN(nn.Module):\n",
    "    def __init__(self, in_feats, hidden_feats, out_feats):\n",
    "        super(GCN, self).__init__()\n",
    "        self.gcn1 = GCNLayer(in_feats, hidden_feats)\n",
    "        self.gcn2 = GCNLayer(hidden_feats, out_feats)\n",
    "\n",
    "    def forward(self, X, A_hat):\n",
    "        h = self.gcn1(X, A_hat)\n",
    "        h = F.relu(h)\n",
    "        h = self.gcn2(h, A_hat)\n",
    "        return h"
   ]
  },
  {
   "cell_type": "markdown",
   "id": "08c9ee97-82ce-47a4-884c-a7f26aace196",
   "metadata": {},
   "source": [
    "### 4. Prepare Data"
   ]
  },
  {
   "cell_type": "markdown",
   "id": "9afd1212-1f1c-44f0-b9c7-49e114967881",
   "metadata": {},
   "source": [
    "We add self-loop to the adjacency matrix. That is, we add the identity matrix $I$ to the matrix $A$. This makes each node consider its own information when collecting information from its neighbors."
   ]
  },
  {
   "cell_type": "code",
   "execution_count": 25,
   "id": "08a69c7d-bce4-4b7c-9493-a0d2bbea6043",
   "metadata": {},
   "outputs": [],
   "source": [
    "I = np.eye(A.shape[0])\n",
    "A_hat = A + I\n",
    "D_hat = np.diag(A_hat.sum(axis=1))\n",
    "D_hat_inv_sqrt = np.linalg.inv(np.sqrt(D_hat))\n",
    "A_hat_norm = D_hat_inv_sqrt @ A_hat @ D_hat_inv_sqrt\n",
    "A_hat_norm = torch.FloatTensor(A_hat_norm)"
   ]
  },
  {
   "cell_type": "markdown",
   "id": "cf9c0589-27af-40c9-8777-6e0985ca09af",
   "metadata": {},
   "source": [
    "Since nodes do not have any initial features, we use an identity matrix as a feature. This means that each node is represented by a unique one-hot vector."
   ]
  },
  {
   "cell_type": "code",
   "execution_count": 26,
   "id": "ce3d1c52-004e-4e7e-9c22-fb462da750bc",
   "metadata": {},
   "outputs": [],
   "source": [
    "X_feat = torch.eye(A.shape[0])  # one-hot features\n",
    "y = torch.LongTensor(labels_true)"
   ]
  },
  {
   "cell_type": "markdown",
   "id": "802d9bee-3feb-48a0-86d2-b1e0ff37166e",
   "metadata": {},
   "source": [
    "We split the data into two parts: train and test. The model is trained using only the labels of the first 20 nodes (idx_train) and tries to predict the labels of the remaining nodes."
   ]
  },
  {
   "cell_type": "code",
   "execution_count": 27,
   "id": "3880d3b1-02ff-4d60-bb30-fcdc4b838ce8",
   "metadata": {},
   "outputs": [],
   "source": [
    "idx_train = torch.arange(0, 20)\n",
    "idx_test = torch.arange(20, A.shape[0])"
   ]
  },
  {
   "cell_type": "code",
   "execution_count": 28,
   "id": "caa35302-e2a7-4da6-88d9-9a4f503854c8",
   "metadata": {},
   "outputs": [],
   "source": [
    "model = GCN(in_feats=A.shape[0], hidden_feats=16, out_feats=2)\n",
    "optimizer = torch.optim.Adam(model.parameters(), lr=0.01)"
   ]
  },
  {
   "cell_type": "markdown",
   "id": "3e8528d2-ee59-434d-94da-a6dc5ab5543f",
   "metadata": {},
   "source": [
    "### Train "
   ]
  },
  {
   "cell_type": "code",
   "execution_count": 30,
   "id": "ab4efe7c-7ce8-4f76-af7f-6fb85012cf67",
   "metadata": {},
   "outputs": [
    {
     "name": "stdout",
     "output_type": "stream",
     "text": [
      " Epoch 10 | Loss: 0.3651\n",
      " Epoch 20 | Loss: 0.2693\n",
      " Epoch 30 | Loss: 0.1919\n",
      " Epoch 40 | Loss: 0.1281\n",
      " Epoch 50 | Loss: 0.0894\n",
      " Epoch 60 | Loss: 0.0659\n",
      " Epoch 70 | Loss: 0.0507\n",
      " Epoch 80 | Loss: 0.0398\n",
      " Epoch 90 | Loss: 0.0318\n",
      " Epoch 100 | Loss: 0.0257\n",
      " Epoch 110 | Loss: 0.0210\n",
      " Epoch 120 | Loss: 0.0174\n",
      " Epoch 130 | Loss: 0.0146\n",
      " Epoch 140 | Loss: 0.0124\n",
      " Epoch 150 | Loss: 0.0107\n",
      " Epoch 160 | Loss: 0.0093\n",
      " Epoch 170 | Loss: 0.0081\n",
      " Epoch 180 | Loss: 0.0072\n",
      " Epoch 190 | Loss: 0.0064\n",
      " Epoch 200 | Loss: 0.0057\n"
     ]
    }
   ],
   "source": [
    "for epoch in range(200):\n",
    "    model.train()\n",
    "    optimizer.zero_grad()\n",
    "    out = model(X_feat, A_hat_norm)\n",
    "    loss = F.cross_entropy(out[idx_train], y[idx_train])\n",
    "    loss.backward()\n",
    "    optimizer.step()\n",
    "    \n",
    "    if (epoch + 1) % 10 == 0:\n",
    "            print(f\" Epoch {epoch+1:02d} | Loss: {loss.item():.4f}\")"
   ]
  },
  {
   "cell_type": "markdown",
   "id": "4efd0676-75bb-471c-b0f6-48c95332f9d2",
   "metadata": {},
   "source": [
    "### Predict"
   ]
  },
  {
   "cell_type": "code",
   "execution_count": 31,
   "id": "a3052e17-7cfa-4e62-a770-2fa4ba53692e",
   "metadata": {},
   "outputs": [],
   "source": [
    "model.eval()\n",
    "out = model(X_feat, A_hat_norm)\n",
    "pred_gcn = out.argmax(dim=1).numpy()"
   ]
  },
  {
   "cell_type": "markdown",
   "id": "86eec070-d30e-4298-a559-ff3b9e199845",
   "metadata": {},
   "source": [
    "### Compare Result "
   ]
  },
  {
   "cell_type": "code",
   "execution_count": 32,
   "id": "a57fc756-c291-4a9d-8c4d-a4a234a563b1",
   "metadata": {},
   "outputs": [
    {
     "data": {
      "image/png": "[encoded data removed]",
      "text/plain": [
       "<Figure size 720x288 with 3 Axes>"
      ]
     },
     "metadata": {},
     "output_type": "display_data"
    }
   ],
   "source": [
    "plt.figure(figsize=(10, 4))\n",
    "\n",
    "plt.subplot(1, 3, 1)\n",
    "nx.draw_networkx(G, node_color=labels_true, with_labels=False, cmap=plt.cm.Set1)\n",
    "plt.title(\"True Labels\")\n",
    "\n",
    "plt.subplot(1, 3, 2)\n",
    "nx.draw_networkx(G, node_color=labels_spectral, with_labels=False, cmap=plt.cm.Set1)\n",
    "plt.title(\"Spectral Clustering\")\n",
    "\n",
    "plt.subplot(1, 3, 3)\n",
    "nx.draw_networkx(G, node_color=pred_gcn, with_labels=False, cmap=plt.cm.Set1)\n",
    "plt.title(\"GCN Prediction\")\n",
    "\n",
    "plt.show()"
   ]
  },
  {
   "cell_type": "code",
   "execution_count": 33,
   "id": "c09dfd30-284d-4b55-8acb-6274dd162659",
   "metadata": {},
   "outputs": [
    {
     "data": {
      "text/plain": [
       "array([1, 1, 1, 1, 1, 1, 1, 1, 1, 0, 1, 1, 1, 1, 0, 0, 1, 1, 0, 1, 0, 1,\n",
       "       0, 0, 0, 0, 0, 0, 0, 0, 0, 0, 0, 0])"
      ]
     },
     "execution_count": 33,
     "metadata": {},
     "output_type": "execute_result"
    }
   ],
   "source": [
    "labels_true"
   ]
  },
  {
   "cell_type": "code",
   "execution_count": 34,
   "id": "3e2ec377-cde4-45bb-ac0e-83d1d60f71b2",
   "metadata": {},
   "outputs": [
    {
     "data": {
      "text/plain": [
       "array([1, 1, 1, 1, 1, 1, 1, 1, 0, 0, 1, 1, 1, 1, 0, 0, 1, 1, 0, 1, 0, 1,\n",
       "       0, 0, 0, 0, 0, 0, 0, 0, 0, 0, 0, 0], dtype=int32)"
      ]
     },
     "execution_count": 34,
     "metadata": {},
     "output_type": "execute_result"
    }
   ],
   "source": [
    "labels_spectral"
   ]
  },
  {
   "cell_type": "code",
   "execution_count": 35,
   "id": "481780d4-14b0-415e-9142-16812666924d",
   "metadata": {},
   "outputs": [
    {
     "data": {
      "text/plain": [
       "array([1, 1, 1, 1, 1, 1, 1, 1, 1, 0, 1, 1, 1, 1, 0, 0, 1, 1, 0, 1, 0, 1,\n",
       "       0, 0, 0, 0, 0, 0, 1, 0, 0, 0, 0, 0])"
      ]
     },
     "execution_count": 35,
     "metadata": {},
     "output_type": "execute_result"
    }
   ],
   "source": [
    "pred_gcn"
   ]
  },
  {
   "cell_type": "markdown",
   "id": "7a2c21a4-6c4d-4f9d-a2a4-e9b24fc554fa",
   "metadata": {},
   "source": [
    "### Evalutaion"
   ]
  },
  {
   "cell_type": "markdown",
   "id": "18b832ce-1ff0-4f82-a649-d5382e383c2a",
   "metadata": {},
   "source": [
    "We evalute model with two metrics.\n",
    "1. accuracy \n",
    "2. ARI [Adjusted Rand Index](https://scikit-learn.org/stable/modules/generated/sklearn.metrics.adjusted_rand_score.html)"
   ]
  },
  {
   "cell_type": "code",
   "execution_count": 44,
   "id": "098af99e-45da-41ff-a65d-2eb39a30e23e",
   "metadata": {},
   "outputs": [],
   "source": [
    "from sklearn.metrics import accuracy_score, adjusted_rand_score"
   ]
  },
  {
   "cell_type": "code",
   "execution_count": 45,
   "id": "3f8c938f-7dcb-4f5b-bf6c-7ef457a6010a",
   "metadata": {},
   "outputs": [],
   "source": [
    "acc_spectral = accuracy_score(labels_true, labels_spectral)\n",
    "ari_spectral = adjusted_rand_score(labels_true, labels_spectral)"
   ]
  },
  {
   "cell_type": "code",
   "execution_count": 46,
   "id": "631b7ac9-c56b-4e73-9921-5590ee2e5bcb",
   "metadata": {},
   "outputs": [],
   "source": [
    "acc_gcn = accuracy_score(labels_true, pred_gcn)\n",
    "ari_gcn = adjusted_rand_score(labels_true, pred_gcn)"
   ]
  },
  {
   "cell_type": "code",
   "execution_count": 47,
   "id": "fd7abf06-1fcb-4a92-b031-b4ee2842a6fd",
   "metadata": {},
   "outputs": [
    {
     "name": "stdout",
     "output_type": "stream",
     "text": [
      "Spectral Clustering → Accuracy: 0.9705882352941176  | ARI: 0.8822575413558222\n",
      "GCN                → Accuracy: 0.9705882352941176  | ARI: 0.8822575413558222\n"
     ]
    }
   ],
   "source": [
    "print(\"Spectral Clustering → Accuracy:\", acc_spectral, \" | ARI:\", ari_spectral)\n",
    "print(\"GCN                → Accuracy:\", acc_gcn, \" | ARI:\", ari_gcn)"
   ]
  },
  {
   "cell_type": "code",
   "execution_count": null,
   "id": "326a4e35-4105-4dbd-b076-a28ade9d9ea9",
   "metadata": {},
   "outputs": [],
   "source": []
  },
  {
   "cell_type": "code",
   "execution_count": null,
   "id": "93a71ce0-c3d3-47d6-80b3-f1fe62dc0131",
   "metadata": {},
   "outputs": [],
   "source": []
  }
 ],
 "metadata": {
  "kernelspec": {
   "display_name": "Python 3 (ipykernel)",
   "language": "python",
   "name": "python3"
  },
  "language_info": {
   "codemirror_mode": {
    "name": "ipython",
    "version": 3
   },
   "file_extension": ".py",
   "mimetype": "text/x-python",
   "name": "python",
   "nbconvert_exporter": "python",
   "pygments_lexer": "ipython3",
   "version": "3.12.11"
  }
 },
 "nbformat": 4,
 "nbformat_minor": 5
}
