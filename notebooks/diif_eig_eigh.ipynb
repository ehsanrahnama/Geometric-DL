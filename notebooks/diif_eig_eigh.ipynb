{
 "cells": [
  {
   "cell_type": "markdown",
   "id": "41baad35-85c4-4673-9711-3e2ae909eae2",
   "metadata": {},
   "source": [
    "\n",
    "### Key differences:\n",
    "**1 . Sorting:**\n",
    "\n",
    "np.linalg.eigh always returns eigenvalues in ascending order (very useful for spectral clustering).\n",
    "\n",
    "np.linalg.eig may not be sorted.\n",
    "\n",
    "**2. Precision and imaginary numbers:**\n",
    "\n",
    "np.linalg.eigh only returns real numbers because it assumes the matrix is symmetric.\n",
    "\n",
    "np.linalg.eig may return complex numbers even if everything is real (due to numerical error)."
   ]
  },
  {
   "cell_type": "code",
   "execution_count": 3,
   "id": "7821e42a-8ae3-495a-b0eb-8958bd1020d2",
   "metadata": {},
   "outputs": [
    {
     "name": "stdout",
     "output_type": "stream",
     "text": [
      "Eigenvalues from eig (general):\n",
      "[ 3.41421356e+00  2.00000000e+00 -1.13820439e-16  5.85786438e-01]\n",
      "\n",
      "Eigenvalues from eigh (symmetric):\n",
      "[-1.76298406e-16  5.85786438e-01  2.00000000e+00  3.41421356e+00]\n"
     ]
    }
   ],
   "source": [
    "import numpy as np\n",
    "\n",
    "L = np.array([\n",
    "    [ 2, -1, -1,  0],\n",
    "    [-1,  2,  0, -1],\n",
    "    [-1,  0,  1,  0],\n",
    "    [ 0, -1,  0,  1]\n",
    "])\n",
    "\n",
    "#  np.linalg.eig (For General Matrix)\n",
    "eigvals_general, eigvecs_general = np.linalg.eig(L)\n",
    "\n",
    "# np.linalg.eigh (For symmetric matrices )\n",
    "eigvals_symmetric, eigvecs_symmetric = np.linalg.eigh(L)\n",
    "\n",
    "print(\"Eigenvalues from eig (general):\")\n",
    "print(eigvals_general)\n",
    "\n",
    "print(\"\\nEigenvalues from eigh (symmetric):\")\n",
    "print(eigvals_symmetric)\n"
   ]
  },
  {
   "cell_type": "code",
   "execution_count": null,
   "id": "55b2a3ad-fccf-4a65-bb70-48ea59060534",
   "metadata": {},
   "outputs": [],
   "source": []
  }
 ],
 "metadata": {
  "kernelspec": {
   "display_name": "Python 3 (ipykernel)",
   "language": "python",
   "name": "python3"
  },
  "language_info": {
   "codemirror_mode": {
    "name": "ipython",
    "version": 3
   },
   "file_extension": ".py",
   "mimetype": "text/x-python",
   "name": "python",
   "nbconvert_exporter": "python",
   "pygments_lexer": "ipython3",
   "version": "3.8.12"
  }
 },
 "nbformat": 4,
 "nbformat_minor": 5
}
