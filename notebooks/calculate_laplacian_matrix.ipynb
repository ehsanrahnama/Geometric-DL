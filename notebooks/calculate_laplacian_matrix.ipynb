{
 "cells": [
  {
   "attachments": {
    "10f6b55a-5483-4bbf-8cbd-87128604b1bc.png": {
     "image/png": "[encoded data removed]"
    }
   },
   "cell_type": "markdown",
   "id": "7353ef1f-732a-4233-85c4-74c8a2c838d3",
   "metadata": {
    "tags": []
   },
   "source": [
    "## Simple example to calculate laplacian matrix  \n",
    "\n",
    "Consider the following Graph \n",
    "\n",
    "node or vertex:\n",
    "V={1,2,3,4}\n",
    "\n",
    "edge:\n",
    "[(1, 2), (1, 3), (2, 4)]\n",
    "\n",
    "![graph_image.png](attachment:10f6b55a-5483-4bbf-8cbd-87128604b1bc.png)\n",
    "\n",
    "This is the Adjacency Matrix:\n",
    "\n",
    "The size is 4x4. If there is an edge between i,j vertices the $A_{ij}$ =1 else is $A_{ij}$ = 0\n",
    "\n",
    "$A = \\begin{bmatrix}  0&1&1&0 \\\\ 1&0&0&1 \\\\ 1&0&0&0 \\\\ 0&1&0&0 \\end{bmatrix}$\n",
    "\n",
    "\n",
    "The Degree matrix is diagonal matrix 4x4 where $D_{ii}$ is the number of edges connected to vertex i \n",
    "\n",
    "$ D= \\begin{bmatrix} 2&0&0&0 \\\\ 0&2&0&0 \\\\ 0&0&1&0 \\\\ 0&0&0&1 \\end{bmatrix} $\n",
    "\n",
    "Therefore the laplacian matrix is here:\n",
    "\n",
    "$L = D-A = \\begin{bmatrix} 2&-1&-1&0 \\\\ -1&2&0&-1 \\\\ -1&0&1&0 \\\\ 0&-1&0&1 \\end{bmatrix}$"
   ]
  },
  {
   "cell_type": "code",
   "execution_count": null,
   "id": "96e1a988-6e42-43b6-b33a-9ba4d3ad071e",
   "metadata": {},
   "outputs": [],
   "source": []
  },
  {
   "cell_type": "code",
   "execution_count": 4,
   "id": "b7a2088c-e47d-48c0-a151-61c106ed1360",
   "metadata": {},
   "outputs": [],
   "source": [
    "import numpy as np\n",
    "import matplotlib.pyplot as plt"
   ]
  },
  {
   "cell_type": "markdown",
   "id": "e8b61e84-59a7-4f73-ade7-427981c7f431",
   "metadata": {},
   "source": [
    "### Adjacency Matrix"
   ]
  },
  {
   "cell_type": "code",
   "execution_count": 7,
   "id": "3261d591-be3f-4c41-9212-92de584dccbc",
   "metadata": {},
   "outputs": [],
   "source": [
    "A = np.array([\n",
    "    [0, 1, 1, 0],\n",
    "    [1, 0, 0, 1],\n",
    "    [1, 0, 0, 0],\n",
    "    [0, 1, 0, 0]\n",
    "])"
   ]
  },
  {
   "cell_type": "markdown",
   "id": "addf9a49-3f10-40a5-b1f0-28f9bc03c73d",
   "metadata": {},
   "source": [
    "### Degree Matrix"
   ]
  },
  {
   "cell_type": "code",
   "execution_count": 9,
   "id": "53c95e5f-5fd8-44ec-b5f6-1d95e9d6ed71",
   "metadata": {},
   "outputs": [
    {
     "data": {
      "text/plain": [
       "array([[2, 0, 0, 0],\n",
       "       [0, 2, 0, 0],\n",
       "       [0, 0, 1, 0],\n",
       "       [0, 0, 0, 1]])"
      ]
     },
     "execution_count": 9,
     "metadata": {},
     "output_type": "execute_result"
    }
   ],
   "source": [
    "D = np.diag(np.sum(A, axis=1))\n",
    "D"
   ]
  },
  {
   "cell_type": "markdown",
   "id": "0162b8f4-4a20-4ed4-8363-887ab22f97cf",
   "metadata": {},
   "source": [
    "### Laplacian Matrix"
   ]
  },
  {
   "cell_type": "code",
   "execution_count": 12,
   "id": "7abc7852-a655-4f10-be72-1c5413b23820",
   "metadata": {},
   "outputs": [
    {
     "data": {
      "text/plain": [
       "array([[ 2, -1, -1,  0],\n",
       "       [-1,  2,  0, -1],\n",
       "       [-1,  0,  1,  0],\n",
       "       [ 0, -1,  0,  1]])"
      ]
     },
     "execution_count": 12,
     "metadata": {},
     "output_type": "execute_result"
    }
   ],
   "source": [
    "L = D - A\n",
    "L"
   ]
  },
  {
   "cell_type": "markdown",
   "id": "b4a5749e-009b-49b5-9b84-a70f1088bbce",
   "metadata": {},
   "source": [
    "### eigenvalues , eigenvectors"
   ]
  },
  {
   "cell_type": "code",
   "execution_count": 16,
   "id": "c35eefbe-a175-49b3-a747-ba21165eded3",
   "metadata": {},
   "outputs": [
    {
     "name": "stdout",
     "output_type": "stream",
     "text": [
      "Eigenvalues: [-1.76298406e-16  5.85786438e-01  2.00000000e+00  3.41421356e+00]\n",
      "Eigenvectors:\n",
      " [[-0.5        -0.27059805  0.5        -0.65328148]\n",
      " [-0.5         0.27059805  0.5         0.65328148]\n",
      " [-0.5        -0.65328148 -0.5         0.27059805]\n",
      " [-0.5         0.65328148 -0.5        -0.27059805]]\n"
     ]
    }
   ],
   "source": [
    "eigenvalues, eigenvectors = np.linalg.eigh(L)\n",
    "\n",
    "print(\"Eigenvalues:\", eigenvalues)\n",
    "print(\"Eigenvectors:\\n\", eigenvectors)"
   ]
  },
  {
   "cell_type": "markdown",
   "id": "2f0a59e5-e03e-45a5-8254-a93952a69e67",
   "metadata": {},
   "source": [
    "### remove the eigenvectors corresponding to the eigenvalue=0 or close to zero\n",
    "#### Select two dimensional eigenvectors for two dimensional mapping"
   ]
  },
  {
   "cell_type": "code",
   "execution_count": 54,
   "id": "8c34a341-aa6e-415d-9713-b6dcf8ecdea5",
   "metadata": {},
   "outputs": [],
   "source": [
    "embedding_vectors = eigenvectors[:, 1:3]"
   ]
  },
  {
   "cell_type": "code",
   "execution_count": 55,
   "id": "3da0e4a7-4cb3-480c-b09f-259fcd1dcc1e",
   "metadata": {},
   "outputs": [],
   "source": [
    "###embedding_vectors = np.concatenate((eigenvectors[:, 1:2], eigenvectors[:, 3:]), axis=1)"
   ]
  },
  {
   "cell_type": "markdown",
   "id": "81c6e332-d1f3-49fd-89d0-f24db3536566",
   "metadata": {},
   "source": [
    "### Plot"
   ]
  },
  {
   "cell_type": "code",
   "execution_count": 56,
   "id": "c5fb176f-a244-4173-b522-d6c5a941b372",
   "metadata": {},
   "outputs": [
    {
     "data": {
      "image/png": "[encoded data removed]",
      "text/plain": [
       "<Figure size 432x288 with 1 Axes>"
      ]
     },
     "metadata": {
      "needs_background": "light"
     },
     "output_type": "display_data"
    }
   ],
   "source": [
    "plt.scatter(embedding_vectors[:, 0], embedding_vectors[:, 1])\n",
    "\n",
    "for i in range(4):\n",
    "    plt.text(embedding_vectors[i, 0], embedding_vectors[i, 1], f\"Node {i+1}\")\n",
    "\n",
    "plt.title(\"Spectral Embedding (2D) of Graph Nodes\")\n",
    "plt.xlabel(\"Eigenvector 1\")\n",
    "plt.ylabel(\"Eigenvector 2\")\n",
    "plt.grid(True)\n",
    "plt.show()"
   ]
  },
  {
   "cell_type": "markdown",
   "id": "58e8763d-7b76-4cbe-9f71-6ff37e80d4ac",
   "metadata": {},
   "source": [
    "## Rewrite code with networkx "
   ]
  },
  {
   "cell_type": "code",
   "execution_count": 57,
   "id": "8f5f9726-7c56-41b1-8e7a-69aa285a8055",
   "metadata": {},
   "outputs": [],
   "source": [
    "import networkx as nx"
   ]
  },
  {
   "cell_type": "markdown",
   "id": "ebd22d25-5d68-4673-9e8c-a6a43a3519fa",
   "metadata": {},
   "source": [
    "### Create Graph"
   ]
  },
  {
   "cell_type": "code",
   "execution_count": 59,
   "id": "f53d2aee-5b5e-4800-a8a9-74394f04c2ea",
   "metadata": {},
   "outputs": [],
   "source": [
    "G = nx.Graph()"
   ]
  },
  {
   "cell_type": "code",
   "execution_count": 62,
   "id": "9649f55a-8940-43b8-a532-ab81c660632d",
   "metadata": {},
   "outputs": [],
   "source": [
    "edges = [(1,2), (1,3), (2,4)]"
   ]
  },
  {
   "cell_type": "code",
   "execution_count": 63,
   "id": "9b5b49d7-3dd5-4d32-9058-9bb7e4ae7473",
   "metadata": {},
   "outputs": [],
   "source": [
    "G.add_edges_from(edges)"
   ]
  },
  {
   "cell_type": "markdown",
   "id": "1e1bb8f4-6fca-4ed4-a6da-4baa9f27eb90",
   "metadata": {},
   "source": [
    "### Plot Graph "
   ]
  },
  {
   "cell_type": "code",
   "execution_count": 80,
   "id": "9d7bc428-9391-4e92-8d70-f89cc7370d0e",
   "metadata": {},
   "outputs": [],
   "source": [
    "pos = nx.spring_layout(G)\n",
    "# pos1 = nx.spiral_layout(G)\n",
    "# pos1"
   ]
  },
  {
   "cell_type": "code",
   "execution_count": 82,
   "id": "1b3c164d-6299-4650-8b7d-7b9604949e25",
   "metadata": {},
   "outputs": [
    {
     "data": {
      "image/png": "[encoded data removed]",
      "text/plain": [
       "<Figure size 360x288 with 1 Axes>"
      ]
     },
     "metadata": {},
     "output_type": "display_data"
    }
   ],
   "source": [
    "plt.figure(figsize=(5,4))\n",
    "nx.draw(G, pos, with_labels=True, node_color='lightblue', node_size=500)\n",
    "plt.title(\"Original Graph\")\n",
    "plt.show()"
   ]
  },
  {
   "cell_type": "markdown",
   "id": "06191ed0-baab-4054-a98a-f051fb8331f7",
   "metadata": {},
   "source": [
    "### Adjacency Matrix"
   ]
  },
  {
   "cell_type": "code",
   "execution_count": 88,
   "id": "ccfb537a-94ad-4f4e-84e6-66b9722c1fda",
   "metadata": {},
   "outputs": [
    {
     "data": {
      "text/plain": [
       "array([[0, 1, 1, 0],\n",
       "       [1, 0, 0, 1],\n",
       "       [1, 0, 0, 0],\n",
       "       [0, 1, 0, 0]])"
      ]
     },
     "execution_count": 88,
     "metadata": {},
     "output_type": "execute_result"
    }
   ],
   "source": [
    "A = nx.adjacency_matrix(G).todense()\n",
    "A"
   ]
  },
  {
   "cell_type": "code",
   "execution_count": 89,
   "id": "54718638-cde5-499f-816f-53ffe4244362",
   "metadata": {},
   "outputs": [],
   "source": [
    "D = np.diag(np.sum(A, axis=1))"
   ]
  },
  {
   "cell_type": "code",
   "execution_count": 90,
   "id": "888c10f3-1708-49a5-b965-b621b267f78e",
   "metadata": {},
   "outputs": [
    {
     "data": {
      "text/plain": [
       "array([[2, 0, 0, 0],\n",
       "       [0, 2, 0, 0],\n",
       "       [0, 0, 1, 0],\n",
       "       [0, 0, 0, 1]])"
      ]
     },
     "execution_count": 90,
     "metadata": {},
     "output_type": "execute_result"
    }
   ],
   "source": [
    "D"
   ]
  },
  {
   "cell_type": "code",
   "execution_count": 91,
   "id": "2b8bc502-bef5-42b5-8eb0-07d3bea673f1",
   "metadata": {},
   "outputs": [],
   "source": [
    "L = D - A"
   ]
  },
  {
   "cell_type": "code",
   "execution_count": 92,
   "id": "b7f0165d-e43c-4411-bc03-88745234e556",
   "metadata": {},
   "outputs": [
    {
     "data": {
      "image/png": "[encoded data removed]",
      "text/plain": [
       "<Figure size 432x360 with 1 Axes>"
      ]
     },
     "metadata": {
      "needs_background": "light"
     },
     "output_type": "display_data"
    }
   ],
   "source": [
    "eigenvalues, eigenvectors = np.linalg.eigh(L)\n",
    "embedding = eigenvectors[:, 1:3]\n",
    "\n",
    "plt.figure(figsize=(6,5))\n",
    "plt.scatter(embedding[:, 0], embedding[:, 1], color='red')\n",
    "\n",
    "for i, (x, y) in enumerate(embedding):\n",
    "    plt.text(x, y, f\"Node {i+1}\", fontsize=12)\n",
    "\n",
    "plt.title(\"Spectral Embedding (2D) of Graph Nodes\")\n",
    "plt.xlabel(\"Eigenvector 1\")\n",
    "plt.ylabel(\"Eigenvector 2\")\n",
    "plt.grid(True)\n",
    "plt.show()"
   ]
  },
  {
   "cell_type": "markdown",
   "id": "1e22f66c-426c-41ad-b6d5-390f0bd06b7c",
   "metadata": {},
   "source": [
    "### Use clustring method "
   ]
  },
  {
   "cell_type": "code",
   "execution_count": 118,
   "id": "14c39bb0-4801-4163-8d3c-fcd13de37455",
   "metadata": {},
   "outputs": [],
   "source": [
    "from sklearn.cluster import KMeans\n",
    "\n",
    "X = eigenvectors\n",
    "\n",
    "km = KMeans(n_clusters=2, n_init=10)\n",
    "labels = km.fit_predict(X)"
   ]
  },
  {
   "cell_type": "code",
   "execution_count": 125,
   "id": "b8061144-0927-4f58-b3fd-e91fb9fded34",
   "metadata": {},
   "outputs": [
    {
     "name": "stdout",
     "output_type": "stream",
     "text": [
      "Node 1 -> Cluster 0\n",
      "Node 2 -> Cluster 0\n",
      "Node 3 -> Cluster 0\n",
      "Node 4 -> Cluster 1\n"
     ]
    }
   ],
   "source": [
    "node_labels = {f\"Node {i+1}\": int(label) for i, label in enumerate(labels)}\n",
    "\n",
    "for node, cluster in node_labels.items():\n",
    "    print(f\"{node} -> Cluster {cluster}\")"
   ]
  },
  {
   "cell_type": "code",
   "execution_count": null,
   "id": "c7f8efe3-d739-4b8c-be27-6127f0c80b7a",
   "metadata": {},
   "outputs": [],
   "source": []
  }
 ],
 "metadata": {
  "kernelspec": {
   "display_name": "Python 3 (ipykernel)",
   "language": "python",
   "name": "python3"
  },
  "language_info": {
   "codemirror_mode": {
    "name": "ipython",
    "version": 3
   },
   "file_extension": ".py",
   "mimetype": "text/x-python",
   "name": "python",
   "nbconvert_exporter": "python",
   "pygments_lexer": "ipython3",
   "version": "3.8.12"
  }
 },
 "nbformat": 4,
 "nbformat_minor": 5
}
